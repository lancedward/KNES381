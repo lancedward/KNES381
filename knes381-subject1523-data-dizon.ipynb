{
 "cells": [
  {
   "cell_type": "code",
   "execution_count": 1,
   "id": "2ed3dff0",
   "metadata": {
    "_cell_guid": "b1076dfc-b9ad-4769-8c92-a6c4dae69d19",
    "_uuid": "8f2839f25d086af736a60e9eeb907d3b93b6e0e5",
    "execution": {
     "iopub.execute_input": "2023-03-09T18:07:34.711212Z",
     "iopub.status.busy": "2023-03-09T18:07:34.710615Z",
     "iopub.status.idle": "2023-03-09T18:07:34.731564Z",
     "shell.execute_reply": "2023-03-09T18:07:34.730149Z"
    },
    "papermill": {
     "duration": 0.029627,
     "end_time": "2023-03-09T18:07:34.734559",
     "exception": false,
     "start_time": "2023-03-09T18:07:34.704932",
     "status": "completed"
    },
    "tags": []
   },
   "outputs": [
    {
     "name": "stdout",
     "output_type": "stream",
     "text": [
      "/kaggle/input/demo-knes381/subject_1321.xlsx\n",
      "/kaggle/input/demo-knes381/subject_1432.xlsx\n",
      "/kaggle/input/demo-knes381/subject_1321.csv\n",
      "/kaggle/input/demo-knes381/subject_1232.csv\n",
      "/kaggle/input/demo-knes381/VO2_CSV.csv\n",
      "/kaggle/input/demo-knes381/subject_1232.xlsx\n",
      "/kaggle/input/demo-knes381/subject_1432.csv\n",
      "/kaggle/input/demo-knes381/subject_1523.csv\n",
      "/kaggle/input/demo-knes381/VO2_excel.xlsx\n",
      "/kaggle/input/demo-knes381/subject_1523.xlsx\n"
     ]
    }
   ],
   "source": [
    "# This Python 3 environment comes with many helpful analytics libraries installed\n",
    "# It is defined by the kaggle/python Docker image: https://github.com/kaggle/docker-python\n",
    "# For example, here's several helpful packages to load\n",
    "\n",
    "import numpy as np # linear algebra\n",
    "import pandas as pd # data processing, CSV file I/O (e.g. pd.read_csv)\n",
    "\n",
    "# Input data files are available in the read-only \"../input/\" directory\n",
    "# For example, running this (by clicking run or pressing Shift+Enter) will list all files under the input directory\n",
    "\n",
    "import os\n",
    "for dirname, _, filenames in os.walk('/kaggle/input'):\n",
    "    for filename in filenames:\n",
    "        print(os.path.join(dirname, filename))\n",
    "\n",
    "# You can write up to 20GB to the current directory (/kaggle/working/) that gets preserved as output when you create a version using \"Save & Run All\" \n",
    "# You can also write temporary files to /kaggle/temp/, but they won't be saved outside of the current session"
   ]
  },
  {
   "cell_type": "code",
   "execution_count": 2,
   "id": "b7816345",
   "metadata": {
    "execution": {
     "iopub.execute_input": "2023-03-09T18:07:34.742763Z",
     "iopub.status.busy": "2023-03-09T18:07:34.742326Z",
     "iopub.status.idle": "2023-03-09T18:07:35.199182Z",
     "shell.execute_reply": "2023-03-09T18:07:35.197690Z"
    },
    "papermill": {
     "duration": 0.464499,
     "end_time": "2023-03-09T18:07:35.202338",
     "exception": false,
     "start_time": "2023-03-09T18:07:34.737839",
     "status": "completed"
    },
    "tags": []
   },
   "outputs": [],
   "source": [
    "import matplotlib.pyplot as plt\n",
    "df_csv = pd.read_excel('/kaggle/input/demo-knes381/subject_1523.xlsx')\n",
    "# df_csv.head()"
   ]
  },
  {
   "cell_type": "code",
   "execution_count": 3,
   "id": "bb9b91df",
   "metadata": {
    "execution": {
     "iopub.execute_input": "2023-03-09T18:07:35.212298Z",
     "iopub.status.busy": "2023-03-09T18:07:35.211596Z",
     "iopub.status.idle": "2023-03-09T18:07:35.259882Z",
     "shell.execute_reply": "2023-03-09T18:07:35.258396Z"
    },
    "papermill": {
     "duration": 0.056557,
     "end_time": "2023-03-09T18:07:35.263025",
     "exception": false,
     "start_time": "2023-03-09T18:07:35.206468",
     "status": "completed"
    },
    "tags": []
   },
   "outputs": [],
   "source": [
    "df_csv = pd.read_excel('/kaggle/input/demo-knes381/subject_1523.xlsx', header = [0, 2], skiprows = [3])"
   ]
  },
  {
   "cell_type": "code",
   "execution_count": 4,
   "id": "d30b6ee2",
   "metadata": {
    "execution": {
     "iopub.execute_input": "2023-03-09T18:07:35.272417Z",
     "iopub.status.busy": "2023-03-09T18:07:35.271321Z",
     "iopub.status.idle": "2023-03-09T18:07:35.284624Z",
     "shell.execute_reply": "2023-03-09T18:07:35.283213Z"
    },
    "papermill": {
     "duration": 0.020548,
     "end_time": "2023-03-09T18:07:35.287223",
     "exception": false,
     "start_time": "2023-03-09T18:07:35.266675",
     "status": "completed"
    },
    "tags": []
   },
   "outputs": [],
   "source": [
    "df2 = df_csv.rename(columns = {'TIME': 'Time (min)'})\n",
    "#df2.head()"
   ]
  },
  {
   "cell_type": "code",
   "execution_count": 5,
   "id": "78c1d3e5",
   "metadata": {
    "execution": {
     "iopub.execute_input": "2023-03-09T18:07:35.295396Z",
     "iopub.status.busy": "2023-03-09T18:07:35.294953Z",
     "iopub.status.idle": "2023-03-09T18:07:35.465835Z",
     "shell.execute_reply": "2023-03-09T18:07:35.464392Z"
    },
    "papermill": {
     "duration": 0.178331,
     "end_time": "2023-03-09T18:07:35.468630",
     "exception": false,
     "start_time": "2023-03-09T18:07:35.290299",
     "status": "completed"
    },
    "tags": []
   },
   "outputs": [
    {
     "data": {
      "text/html": [
       "<div>\n",
       "<style scoped>\n",
       "    .dataframe tbody tr th:only-of-type {\n",
       "        vertical-align: middle;\n",
       "    }\n",
       "\n",
       "    .dataframe tbody tr th {\n",
       "        vertical-align: top;\n",
       "    }\n",
       "\n",
       "    .dataframe thead th {\n",
       "        text-align: right;\n",
       "    }\n",
       "</style>\n",
       "<table border=\"1\" class=\"dataframe\">\n",
       "  <thead>\n",
       "    <tr style=\"text-align: right;\">\n",
       "      <th></th>\n",
       "      <th>TIME</th>\n",
       "      <th>VO2</th>\n",
       "      <th>VO2/kg</th>\n",
       "      <th>METS</th>\n",
       "      <th>VCO2</th>\n",
       "      <th>VE</th>\n",
       "      <th>RER</th>\n",
       "      <th>RR</th>\n",
       "      <th>Vt</th>\n",
       "      <th>FEO2</th>\n",
       "      <th>FECO2</th>\n",
       "      <th>HR</th>\n",
       "      <th>VE/</th>\n",
       "      <th>VE/.1</th>\n",
       "      <th>PetCO2</th>\n",
       "      <th>PO</th>\n",
       "    </tr>\n",
       "  </thead>\n",
       "  <tbody>\n",
       "    <tr>\n",
       "      <th>0</th>\n",
       "      <td>0.514000</td>\n",
       "      <td>1.459290</td>\n",
       "      <td>16.582838</td>\n",
       "      <td>4.737954</td>\n",
       "      <td>1.112682</td>\n",
       "      <td>41.919689</td>\n",
       "      <td>0.762482</td>\n",
       "      <td>21.400778</td>\n",
       "      <td>1.958793</td>\n",
       "      <td>16.275774</td>\n",
       "      <td>3.774875</td>\n",
       "      <td>87.0</td>\n",
       "      <td>28.726089</td>\n",
       "      <td>37.674450</td>\n",
       "      <td>25.064108</td>\n",
       "      <td>50</td>\n",
       "    </tr>\n",
       "    <tr>\n",
       "      <th>1</th>\n",
       "      <td>1.022167</td>\n",
       "      <td>1.504223</td>\n",
       "      <td>17.093439</td>\n",
       "      <td>4.883840</td>\n",
       "      <td>1.160519</td>\n",
       "      <td>42.434860</td>\n",
       "      <td>0.771507</td>\n",
       "      <td>21.646441</td>\n",
       "      <td>1.960362</td>\n",
       "      <td>16.181290</td>\n",
       "      <td>3.888129</td>\n",
       "      <td>89.0</td>\n",
       "      <td>28.210491</td>\n",
       "      <td>36.565426</td>\n",
       "      <td>26.064850</td>\n",
       "      <td>50</td>\n",
       "    </tr>\n",
       "    <tr>\n",
       "      <th>2</th>\n",
       "      <td>1.519834</td>\n",
       "      <td>1.555103</td>\n",
       "      <td>17.671625</td>\n",
       "      <td>5.049036</td>\n",
       "      <td>1.147277</td>\n",
       "      <td>41.991577</td>\n",
       "      <td>0.737750</td>\n",
       "      <td>22.103148</td>\n",
       "      <td>1.899801</td>\n",
       "      <td>16.005651</td>\n",
       "      <td>3.884471</td>\n",
       "      <td>84.0</td>\n",
       "      <td>27.002441</td>\n",
       "      <td>36.601089</td>\n",
       "      <td>25.945581</td>\n",
       "      <td>50</td>\n",
       "    </tr>\n",
       "    <tr>\n",
       "      <th>3</th>\n",
       "      <td>2.012334</td>\n",
       "      <td>1.745615</td>\n",
       "      <td>19.836536</td>\n",
       "      <td>5.667582</td>\n",
       "      <td>1.338574</td>\n",
       "      <td>46.513016</td>\n",
       "      <td>0.766821</td>\n",
       "      <td>16.243654</td>\n",
       "      <td>2.863458</td>\n",
       "      <td>15.907585</td>\n",
       "      <td>4.089391</td>\n",
       "      <td>92.0</td>\n",
       "      <td>26.645630</td>\n",
       "      <td>34.748173</td>\n",
       "      <td>27.309790</td>\n",
       "      <td>50</td>\n",
       "    </tr>\n",
       "    <tr>\n",
       "      <th>4</th>\n",
       "      <td>2.532000</td>\n",
       "      <td>1.667379</td>\n",
       "      <td>18.947485</td>\n",
       "      <td>5.413567</td>\n",
       "      <td>1.274816</td>\n",
       "      <td>43.739609</td>\n",
       "      <td>0.764563</td>\n",
       "      <td>23.091724</td>\n",
       "      <td>1.894168</td>\n",
       "      <td>15.831031</td>\n",
       "      <td>4.141047</td>\n",
       "      <td>91.5</td>\n",
       "      <td>26.232559</td>\n",
       "      <td>34.310535</td>\n",
       "      <td>27.466810</td>\n",
       "      <td>50</td>\n",
       "    </tr>\n",
       "  </tbody>\n",
       "</table>\n",
       "</div>"
      ],
      "text/plain": [
       "       TIME       VO2     VO2/kg      METS      VCO2         VE       RER  \\\n",
       "0  0.514000  1.459290  16.582838  4.737954  1.112682  41.919689  0.762482   \n",
       "1  1.022167  1.504223  17.093439  4.883840  1.160519  42.434860  0.771507   \n",
       "2  1.519834  1.555103  17.671625  5.049036  1.147277  41.991577  0.737750   \n",
       "3  2.012334  1.745615  19.836536  5.667582  1.338574  46.513016  0.766821   \n",
       "4  2.532000  1.667379  18.947485  5.413567  1.274816  43.739609  0.764563   \n",
       "\n",
       "          RR        Vt       FEO2     FECO2    HR        VE/      VE/.1  \\\n",
       "0  21.400778  1.958793  16.275774  3.774875  87.0  28.726089  37.674450   \n",
       "1  21.646441  1.960362  16.181290  3.888129  89.0  28.210491  36.565426   \n",
       "2  22.103148  1.899801  16.005651  3.884471  84.0  27.002441  36.601089   \n",
       "3  16.243654  2.863458  15.907585  4.089391  92.0  26.645630  34.748173   \n",
       "4  23.091724  1.894168  15.831031  4.141047  91.5  26.232559  34.310535   \n",
       "\n",
       "      PetCO2  PO  \n",
       "0  25.064108  50  \n",
       "1  26.064850  50  \n",
       "2  25.945581  50  \n",
       "3  27.309790  50  \n",
       "4  27.466810  50  "
      ]
     },
     "execution_count": 5,
     "metadata": {},
     "output_type": "execute_result"
    }
   ],
   "source": [
    "df_csv  = pd.read_excel(\"/kaggle/input/demo-knes381/subject_1523.xlsx\", header=[0], skiprows=[1,2,3])\n",
    "df_csv.head()"
   ]
  },
  {
   "cell_type": "code",
   "execution_count": 6,
   "id": "07c3c90b",
   "metadata": {
    "execution": {
     "iopub.execute_input": "2023-03-09T18:07:35.478258Z",
     "iopub.status.busy": "2023-03-09T18:07:35.476797Z",
     "iopub.status.idle": "2023-03-09T18:07:35.826806Z",
     "shell.execute_reply": "2023-03-09T18:07:35.825409Z"
    },
    "papermill": {
     "duration": 0.357514,
     "end_time": "2023-03-09T18:07:35.829569",
     "exception": false,
     "start_time": "2023-03-09T18:07:35.472055",
     "status": "completed"
    },
    "tags": []
   },
   "outputs": [
    {
     "data": {
      "text/plain": [
       "<AxesSubplot:xlabel='TIME'>"
      ]
     },
     "execution_count": 6,
     "metadata": {},
     "output_type": "execute_result"
    },
    {
     "data": {
      "image/png": "[encoded data removed]",
      "text/plain": [
       "<Figure size 640x480 with 1 Axes>"
      ]
     },
     "metadata": {},
     "output_type": "display_data"
    }
   ],
   "source": [
    "df_csv.plot('TIME', 'VO2')"
   ]
  },
  {
   "cell_type": "code",
   "execution_count": null,
   "id": "51192f73",
   "metadata": {
    "papermill": {
     "duration": 0.003493,
     "end_time": "2023-03-09T18:07:35.837045",
     "exception": false,
     "start_time": "2023-03-09T18:07:35.833552",
     "status": "completed"
    },
    "tags": []
   },
   "outputs": [],
   "source": []
  },
  {
   "cell_type": "code",
   "execution_count": null,
   "id": "75d2df13",
   "metadata": {
    "papermill": {
     "duration": 0.003718,
     "end_time": "2023-03-09T18:07:35.844640",
     "exception": false,
     "start_time": "2023-03-09T18:07:35.840922",
     "status": "completed"
    },
    "tags": []
   },
   "outputs": [],
   "source": []
  }
 ],
 "metadata": {
  "kernelspec": {
   "display_name": "Python 3",
   "language": "python",
   "name": "python3"
  },
  "language_info": {
   "codemirror_mode": {
    "name": "ipython",
    "version": 3
   },
   "file_extension": ".py",
   "mimetype": "text/x-python",
   "name": "python",
   "nbconvert_exporter": "python",
   "pygments_lexer": "ipython3",
   "version": "3.7.12"
  },
  "papermill": {
   "default_parameters": {},
   "duration": 13.233994,
   "end_time": "2023-03-09T18:07:36.572033",
   "environment_variables": {},
   "exception": null,
   "input_path": "__notebook__.ipynb",
   "output_path": "__notebook__.ipynb",
   "parameters": {},
   "start_time": "2023-03-09T18:07:23.338039",
   "version": "2.4.0"
  }
 },
 "nbformat": 4,
 "nbformat_minor": 5
}
