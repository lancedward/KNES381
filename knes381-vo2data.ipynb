{
 "cells": [
  {
   "cell_type": "code",
   "execution_count": 1,
   "id": "533d46d6",
   "metadata": {
    "_cell_guid": "b1076dfc-b9ad-4769-8c92-a6c4dae69d19",
    "_uuid": "8f2839f25d086af736a60e9eeb907d3b93b6e0e5",
    "execution": {
     "iopub.execute_input": "2023-03-07T18:14:00.491302Z",
     "iopub.status.busy": "2023-03-07T18:14:00.490710Z",
     "iopub.status.idle": "2023-03-07T18:14:00.517590Z",
     "shell.execute_reply": "2023-03-07T18:14:00.516666Z"
    },
    "papermill": {
     "duration": 0.038232,
     "end_time": "2023-03-07T18:14:00.520769",
     "exception": false,
     "start_time": "2023-03-07T18:14:00.482537",
     "status": "completed"
    },
    "tags": []
   },
   "outputs": [
    {
     "name": "stdout",
     "output_type": "stream",
     "text": [
      "/kaggle/input/demo-knes381/subject_1321.xlsx\n",
      "/kaggle/input/demo-knes381/subject_1432.xlsx\n",
      "/kaggle/input/demo-knes381/subject_1321.csv\n",
      "/kaggle/input/demo-knes381/subject_1232.csv\n",
      "/kaggle/input/demo-knes381/VO2_CSV.csv\n",
      "/kaggle/input/demo-knes381/subject_1232.xlsx\n",
      "/kaggle/input/demo-knes381/subject_1432.csv\n",
      "/kaggle/input/demo-knes381/subject_1523.csv\n",
      "/kaggle/input/demo-knes381/VO2_excel.xlsx\n",
      "/kaggle/input/demo-knes381/subject_1523.xlsx\n"
     ]
    }
   ],
   "source": [
    "# This Python 3 environment comes with many helpful analytics libraries installed\n",
    "# It is defined by the kaggle/python Docker image: https://github.com/kaggle/docker-python\n",
    "# For example, here's several helpful packages to load\n",
    "\n",
    "import numpy as np # linear algebra\n",
    "import pandas as pd # data processing, CSV file I/O (e.g. pd.read_csv)\n",
    "\n",
    "# Input data files are available in the read-only \"../input/\" directory\n",
    "# For example, running this (by clicking run or pressing Shift+Enter) will list all files under the input directory\n",
    "\n",
    "import os\n",
    "for dirname, _, filenames in os.walk('/kaggle/input'):\n",
    "    for filename in filenames:\n",
    "        print(os.path.join(dirname, filename))\n",
    "\n",
    "# You can write up to 20GB to the current directory (/kaggle/working/) that gets preserved as output when you create a version using \"Save & Run All\" \n",
    "# You can also write temporary files to /kaggle/temp/, but they won't be saved outside of the current session"
   ]
  },
  {
   "cell_type": "code",
   "execution_count": 2,
   "id": "7a85779f",
   "metadata": {
    "execution": {
     "iopub.execute_input": "2023-03-07T18:14:00.535277Z",
     "iopub.status.busy": "2023-03-07T18:14:00.534389Z",
     "iopub.status.idle": "2023-03-07T18:14:00.910493Z",
     "shell.execute_reply": "2023-03-07T18:14:00.909260Z"
    },
    "papermill": {
     "duration": 0.386905,
     "end_time": "2023-03-07T18:14:00.913333",
     "exception": false,
     "start_time": "2023-03-07T18:14:00.526428",
     "status": "completed"
    },
    "tags": []
   },
   "outputs": [],
   "source": [
    "import matplotlib.pyplot as plt\n",
    "df_excel = pd.read_excel('/kaggle/input/demo-knes381/VO2_excel.xlsx')"
   ]
  },
  {
   "cell_type": "code",
   "execution_count": 3,
   "id": "7748bdb3",
   "metadata": {
    "execution": {
     "iopub.execute_input": "2023-03-07T18:14:00.925569Z",
     "iopub.status.busy": "2023-03-07T18:14:00.925027Z",
     "iopub.status.idle": "2023-03-07T18:14:00.959290Z",
     "shell.execute_reply": "2023-03-07T18:14:00.958295Z"
    },
    "papermill": {
     "duration": 0.043586,
     "end_time": "2023-03-07T18:14:00.962106",
     "exception": false,
     "start_time": "2023-03-07T18:14:00.918520",
     "status": "completed"
    },
    "tags": []
   },
   "outputs": [
    {
     "data": {
      "text/html": [
       "<div>\n",
       "<style scoped>\n",
       "    .dataframe tbody tr th:only-of-type {\n",
       "        vertical-align: middle;\n",
       "    }\n",
       "\n",
       "    .dataframe tbody tr th {\n",
       "        vertical-align: top;\n",
       "    }\n",
       "\n",
       "    .dataframe thead th {\n",
       "        text-align: right;\n",
       "    }\n",
       "</style>\n",
       "<table border=\"1\" class=\"dataframe\">\n",
       "  <thead>\n",
       "    <tr style=\"text-align: right;\">\n",
       "      <th></th>\n",
       "      <th>TIME</th>\n",
       "      <th>VO2</th>\n",
       "      <th>VO2/kg</th>\n",
       "      <th>METS</th>\n",
       "      <th>VCO2</th>\n",
       "      <th>VE</th>\n",
       "      <th>RER</th>\n",
       "      <th>RR</th>\n",
       "      <th>Vt</th>\n",
       "      <th>FEO2</th>\n",
       "      <th>FECO2</th>\n",
       "      <th>HR</th>\n",
       "      <th>VE/VO2</th>\n",
       "      <th>VE/CO2</th>\n",
       "      <th>PetCO2</th>\n",
       "      <th>Power</th>\n",
       "    </tr>\n",
       "  </thead>\n",
       "  <tbody>\n",
       "    <tr>\n",
       "      <th>0</th>\n",
       "      <td>NaN</td>\n",
       "      <td>STPD</td>\n",
       "      <td>STPD</td>\n",
       "      <td>NaN</td>\n",
       "      <td>STPD</td>\n",
       "      <td>BTPS</td>\n",
       "      <td>NaN</td>\n",
       "      <td>NaN</td>\n",
       "      <td>BTPS</td>\n",
       "      <td>NaN</td>\n",
       "      <td>NaN</td>\n",
       "      <td>NaN</td>\n",
       "      <td>NaN</td>\n",
       "      <td>NaN</td>\n",
       "      <td>NaN</td>\n",
       "      <td>NaN</td>\n",
       "    </tr>\n",
       "    <tr>\n",
       "      <th>1</th>\n",
       "      <td>min</td>\n",
       "      <td>L/min</td>\n",
       "      <td>ml/kg/m</td>\n",
       "      <td>NaN</td>\n",
       "      <td>L/min</td>\n",
       "      <td>L/min</td>\n",
       "      <td>NaN</td>\n",
       "      <td>BPM</td>\n",
       "      <td>L</td>\n",
       "      <td>%</td>\n",
       "      <td>%</td>\n",
       "      <td>bpm</td>\n",
       "      <td>BT/ST</td>\n",
       "      <td>BT/ST</td>\n",
       "      <td>mmHg</td>\n",
       "      <td>Watts</td>\n",
       "    </tr>\n",
       "    <tr>\n",
       "      <th>2</th>\n",
       "      <td>----------</td>\n",
       "      <td>NaN</td>\n",
       "      <td>NaN</td>\n",
       "      <td>NaN</td>\n",
       "      <td>NaN</td>\n",
       "      <td>NaN</td>\n",
       "      <td>NaN</td>\n",
       "      <td>NaN</td>\n",
       "      <td>NaN</td>\n",
       "      <td>NaN</td>\n",
       "      <td>NaN</td>\n",
       "      <td>NaN</td>\n",
       "      <td>NaN</td>\n",
       "      <td>NaN</td>\n",
       "      <td>NaN</td>\n",
       "      <td>NaN</td>\n",
       "    </tr>\n",
       "    <tr>\n",
       "      <th>3</th>\n",
       "      <td>0.517167</td>\n",
       "      <td>0.247651</td>\n",
       "      <td>4.552413</td>\n",
       "      <td>1.300690</td>\n",
       "      <td>0.18422</td>\n",
       "      <td>19.603882</td>\n",
       "      <td>0.743868</td>\n",
       "      <td>17.402514</td>\n",
       "      <td>1.126497</td>\n",
       "      <td>19.247952</td>\n",
       "      <td>1.36228</td>\n",
       "      <td>82</td>\n",
       "      <td>79.15921</td>\n",
       "      <td>106.415611</td>\n",
       "      <td>10.536668</td>\n",
       "      <td>50</td>\n",
       "    </tr>\n",
       "    <tr>\n",
       "      <th>4</th>\n",
       "      <td>1.052167</td>\n",
       "      <td>0.687631</td>\n",
       "      <td>12.640276</td>\n",
       "      <td>3.611507</td>\n",
       "      <td>0.524605</td>\n",
       "      <td>19.488014</td>\n",
       "      <td>0.762917</td>\n",
       "      <td>22.429905</td>\n",
       "      <td>0.868841</td>\n",
       "      <td>16.212049</td>\n",
       "      <td>3.827807</td>\n",
       "      <td>84</td>\n",
       "      <td>28.340801</td>\n",
       "      <td>37.147957</td>\n",
       "      <td>25.49148</td>\n",
       "      <td>50</td>\n",
       "    </tr>\n",
       "  </tbody>\n",
       "</table>\n",
       "</div>"
      ],
      "text/plain": [
       "         TIME       VO2     VO2/kg      METS      VCO2         VE       RER  \\\n",
       "0         NaN      STPD       STPD       NaN      STPD       BTPS       NaN   \n",
       "1         min     L/min    ml/kg/m       NaN     L/min      L/min       NaN   \n",
       "2  ----------       NaN        NaN       NaN       NaN        NaN       NaN   \n",
       "3    0.517167  0.247651   4.552413  1.300690   0.18422  19.603882  0.743868   \n",
       "4    1.052167  0.687631  12.640276  3.611507  0.524605  19.488014  0.762917   \n",
       "\n",
       "          RR        Vt       FEO2     FECO2   HR     VE/VO2      VE/CO2  \\\n",
       "0        NaN      BTPS        NaN       NaN  NaN        NaN         NaN   \n",
       "1        BPM         L          %         %  bpm      BT/ST       BT/ST   \n",
       "2        NaN       NaN        NaN       NaN  NaN        NaN         NaN   \n",
       "3  17.402514  1.126497  19.247952   1.36228   82   79.15921  106.415611   \n",
       "4  22.429905  0.868841  16.212049  3.827807   84  28.340801   37.147957   \n",
       "\n",
       "      PetCO2  Power  \n",
       "0        NaN    NaN  \n",
       "1       mmHg  Watts  \n",
       "2        NaN    NaN  \n",
       "3  10.536668     50  \n",
       "4   25.49148     50  "
      ]
     },
     "execution_count": 3,
     "metadata": {},
     "output_type": "execute_result"
    }
   ],
   "source": [
    "df_excel.head()"
   ]
  },
  {
   "cell_type": "code",
   "execution_count": 4,
   "id": "40455cd4",
   "metadata": {
    "execution": {
     "iopub.execute_input": "2023-03-07T18:14:00.974341Z",
     "iopub.status.busy": "2023-03-07T18:14:00.973977Z",
     "iopub.status.idle": "2023-03-07T18:14:00.997147Z",
     "shell.execute_reply": "2023-03-07T18:14:00.995958Z"
    },
    "papermill": {
     "duration": 0.032438,
     "end_time": "2023-03-07T18:14:00.999878",
     "exception": false,
     "start_time": "2023-03-07T18:14:00.967440",
     "status": "completed"
    },
    "tags": []
   },
   "outputs": [
    {
     "name": "stdout",
     "output_type": "stream",
     "text": [
      "<class 'pandas.core.frame.DataFrame'>\n",
      "RangeIndex: 58 entries, 0 to 57\n",
      "Data columns (total 16 columns):\n",
      " #   Column  Non-Null Count  Dtype  \n",
      "---  ------  --------------  -----  \n",
      " 0   TIME    57 non-null     object \n",
      " 1   VO2     57 non-null     object \n",
      " 2   VO2/kg  57 non-null     object \n",
      " 3   METS    55 non-null     float64\n",
      " 4   VCO2    57 non-null     object \n",
      " 5   VE      57 non-null     object \n",
      " 6   RER     55 non-null     float64\n",
      " 7   RR      56 non-null     object \n",
      " 8   Vt      57 non-null     object \n",
      " 9   FEO2    56 non-null     object \n",
      " 10  FECO2   56 non-null     object \n",
      " 11  HR      56 non-null     object \n",
      " 12  VE/VO2  56 non-null     object \n",
      " 13  VE/CO2  56 non-null     object \n",
      " 14  PetCO2  56 non-null     object \n",
      " 15  Power   56 non-null     object \n",
      "dtypes: float64(2), object(14)\n",
      "memory usage: 7.4+ KB\n"
     ]
    }
   ],
   "source": [
    "df_excel.info()"
   ]
  },
  {
   "cell_type": "code",
   "execution_count": 5,
   "id": "09f43fcc",
   "metadata": {
    "execution": {
     "iopub.execute_input": "2023-03-07T18:14:01.012530Z",
     "iopub.status.busy": "2023-03-07T18:14:01.012121Z",
     "iopub.status.idle": "2023-03-07T18:14:01.021506Z",
     "shell.execute_reply": "2023-03-07T18:14:01.020492Z"
    },
    "papermill": {
     "duration": 0.018522,
     "end_time": "2023-03-07T18:14:01.023898",
     "exception": false,
     "start_time": "2023-03-07T18:14:01.005376",
     "status": "completed"
    },
    "tags": []
   },
   "outputs": [
    {
     "data": {
      "text/plain": [
       "count      57\n",
       "unique     57\n",
       "top       min\n",
       "freq        1\n",
       "Name: TIME, dtype: object"
      ]
     },
     "execution_count": 5,
     "metadata": {},
     "output_type": "execute_result"
    }
   ],
   "source": [
    "df_excel[\"TIME\"].describe()"
   ]
  },
  {
   "cell_type": "code",
   "execution_count": 6,
   "id": "41bc1597",
   "metadata": {
    "execution": {
     "iopub.execute_input": "2023-03-07T18:14:01.036512Z",
     "iopub.status.busy": "2023-03-07T18:14:01.036140Z",
     "iopub.status.idle": "2023-03-07T18:14:01.047754Z",
     "shell.execute_reply": "2023-03-07T18:14:01.046630Z"
    },
    "papermill": {
     "duration": 0.020434,
     "end_time": "2023-03-07T18:14:01.049858",
     "exception": false,
     "start_time": "2023-03-07T18:14:01.029424",
     "status": "completed"
    },
    "tags": []
   },
   "outputs": [
    {
     "data": {
      "text/plain": [
       "count    55.000000\n",
       "mean      0.886194\n",
       "std       0.107071\n",
       "min       0.743728\n",
       "25%       0.793776\n",
       "50%       0.868716\n",
       "75%       0.952358\n",
       "max       1.110856\n",
       "Name: RER, dtype: float64"
      ]
     },
     "execution_count": 6,
     "metadata": {},
     "output_type": "execute_result"
    }
   ],
   "source": [
    "df_excel['RER'].describe()\n",
    "# doing statistics"
   ]
  },
  {
   "cell_type": "code",
   "execution_count": 7,
   "id": "2f40ced8",
   "metadata": {
    "execution": {
     "iopub.execute_input": "2023-03-07T18:14:01.063287Z",
     "iopub.status.busy": "2023-03-07T18:14:01.062223Z",
     "iopub.status.idle": "2023-03-07T18:14:01.205351Z",
     "shell.execute_reply": "2023-03-07T18:14:01.204137Z"
    },
    "papermill": {
     "duration": 0.152617,
     "end_time": "2023-03-07T18:14:01.208084",
     "exception": false,
     "start_time": "2023-03-07T18:14:01.055467",
     "status": "completed"
    },
    "tags": []
   },
   "outputs": [],
   "source": [
    "df_excel = pd.read_excel('/kaggle/input/demo-knes381/VO2_excel.xlsx', header = [0, 2], skiprows = [3])"
   ]
  },
  {
   "cell_type": "code",
   "execution_count": 8,
   "id": "9c553d7d",
   "metadata": {
    "execution": {
     "iopub.execute_input": "2023-03-07T18:14:01.221303Z",
     "iopub.status.busy": "2023-03-07T18:14:01.220521Z",
     "iopub.status.idle": "2023-03-07T18:14:01.234986Z",
     "shell.execute_reply": "2023-03-07T18:14:01.233779Z"
    },
    "papermill": {
     "duration": 0.023874,
     "end_time": "2023-03-07T18:14:01.237556",
     "exception": false,
     "start_time": "2023-03-07T18:14:01.213682",
     "status": "completed"
    },
    "tags": []
   },
   "outputs": [
    {
     "data": {
      "text/plain": [
       "bpm    25.183111\n",
       "dtype: float64"
      ]
     },
     "execution_count": 8,
     "metadata": {},
     "output_type": "execute_result"
    }
   ],
   "source": [
    "df_excel[\"HR\"].std()"
   ]
  },
  {
   "cell_type": "code",
   "execution_count": 9,
   "id": "9053c5a9",
   "metadata": {
    "execution": {
     "iopub.execute_input": "2023-03-07T18:14:01.251318Z",
     "iopub.status.busy": "2023-03-07T18:14:01.250517Z",
     "iopub.status.idle": "2023-03-07T18:14:01.257771Z",
     "shell.execute_reply": "2023-03-07T18:14:01.256541Z"
    },
    "papermill": {
     "duration": 0.017003,
     "end_time": "2023-03-07T18:14:01.260459",
     "exception": false,
     "start_time": "2023-03-07T18:14:01.243456",
     "status": "completed"
    },
    "tags": []
   },
   "outputs": [],
   "source": [
    "df2 = df_excel.rename(columns = {'TIME': 'Time (min)'})"
   ]
  },
  {
   "cell_type": "code",
   "execution_count": 10,
   "id": "7496633e",
   "metadata": {
    "execution": {
     "iopub.execute_input": "2023-03-07T18:14:01.274510Z",
     "iopub.status.busy": "2023-03-07T18:14:01.273405Z",
     "iopub.status.idle": "2023-03-07T18:14:01.297542Z",
     "shell.execute_reply": "2023-03-07T18:14:01.296286Z"
    },
    "papermill": {
     "duration": 0.033894,
     "end_time": "2023-03-07T18:14:01.300160",
     "exception": false,
     "start_time": "2023-03-07T18:14:01.266266",
     "status": "completed"
    },
    "tags": []
   },
   "outputs": [
    {
     "data": {
      "text/html": [
       "<div>\n",
       "<style scoped>\n",
       "    .dataframe tbody tr th:only-of-type {\n",
       "        vertical-align: middle;\n",
       "    }\n",
       "\n",
       "    .dataframe tbody tr th {\n",
       "        vertical-align: top;\n",
       "    }\n",
       "\n",
       "    .dataframe thead tr th {\n",
       "        text-align: left;\n",
       "    }\n",
       "</style>\n",
       "<table border=\"1\" class=\"dataframe\">\n",
       "  <thead>\n",
       "    <tr>\n",
       "      <th></th>\n",
       "      <th>Time (min)</th>\n",
       "      <th>VO2</th>\n",
       "      <th>VO2/kg</th>\n",
       "      <th>METS</th>\n",
       "      <th>VCO2</th>\n",
       "      <th>VE</th>\n",
       "      <th>RER</th>\n",
       "      <th>RR</th>\n",
       "      <th>Vt</th>\n",
       "      <th>FEO2</th>\n",
       "      <th>FECO2</th>\n",
       "      <th>HR</th>\n",
       "      <th>VE/VO2</th>\n",
       "      <th>VE/CO2</th>\n",
       "      <th>PetCO2</th>\n",
       "      <th>Power</th>\n",
       "    </tr>\n",
       "    <tr>\n",
       "      <th></th>\n",
       "      <th>min</th>\n",
       "      <th>L/min</th>\n",
       "      <th>ml/kg/m</th>\n",
       "      <th>Unnamed: 3_level_1</th>\n",
       "      <th>L/min</th>\n",
       "      <th>L/min</th>\n",
       "      <th>Unnamed: 6_level_1</th>\n",
       "      <th>BPM</th>\n",
       "      <th>L</th>\n",
       "      <th>%</th>\n",
       "      <th>%</th>\n",
       "      <th>bpm</th>\n",
       "      <th>BT/ST</th>\n",
       "      <th>BT/ST</th>\n",
       "      <th>mmHg</th>\n",
       "      <th>Watts</th>\n",
       "    </tr>\n",
       "  </thead>\n",
       "  <tbody>\n",
       "    <tr>\n",
       "      <th>0</th>\n",
       "      <td>0.517167</td>\n",
       "      <td>0.247651</td>\n",
       "      <td>4.552413</td>\n",
       "      <td>1.300690</td>\n",
       "      <td>0.184220</td>\n",
       "      <td>19.603882</td>\n",
       "      <td>0.743868</td>\n",
       "      <td>17.402514</td>\n",
       "      <td>1.126497</td>\n",
       "      <td>19.247952</td>\n",
       "      <td>1.362280</td>\n",
       "      <td>82.0</td>\n",
       "      <td>79.159210</td>\n",
       "      <td>106.415611</td>\n",
       "      <td>10.536668</td>\n",
       "      <td>50</td>\n",
       "    </tr>\n",
       "    <tr>\n",
       "      <th>1</th>\n",
       "      <td>1.052167</td>\n",
       "      <td>0.687631</td>\n",
       "      <td>12.640276</td>\n",
       "      <td>3.611507</td>\n",
       "      <td>0.524605</td>\n",
       "      <td>19.488014</td>\n",
       "      <td>0.762917</td>\n",
       "      <td>22.429905</td>\n",
       "      <td>0.868841</td>\n",
       "      <td>16.212049</td>\n",
       "      <td>3.827807</td>\n",
       "      <td>84.0</td>\n",
       "      <td>28.340801</td>\n",
       "      <td>37.147957</td>\n",
       "      <td>25.491480</td>\n",
       "      <td>50</td>\n",
       "    </tr>\n",
       "    <tr>\n",
       "      <th>2</th>\n",
       "      <td>1.517833</td>\n",
       "      <td>0.900826</td>\n",
       "      <td>16.559309</td>\n",
       "      <td>4.731231</td>\n",
       "      <td>0.674840</td>\n",
       "      <td>23.455959</td>\n",
       "      <td>0.749134</td>\n",
       "      <td>19.327129</td>\n",
       "      <td>1.213629</td>\n",
       "      <td>15.810433</td>\n",
       "      <td>4.088318</td>\n",
       "      <td>87.0</td>\n",
       "      <td>26.038269</td>\n",
       "      <td>34.757805</td>\n",
       "      <td>27.316362</td>\n",
       "      <td>50</td>\n",
       "    </tr>\n",
       "    <tr>\n",
       "      <th>3</th>\n",
       "      <td>2.040500</td>\n",
       "      <td>0.907713</td>\n",
       "      <td>16.685894</td>\n",
       "      <td>4.767398</td>\n",
       "      <td>0.675092</td>\n",
       "      <td>23.951960</td>\n",
       "      <td>0.743728</td>\n",
       "      <td>21.045919</td>\n",
       "      <td>1.138081</td>\n",
       "      <td>15.884157</td>\n",
       "      <td>4.005978</td>\n",
       "      <td>99.0</td>\n",
       "      <td>26.387159</td>\n",
       "      <td>35.479572</td>\n",
       "      <td>26.742533</td>\n",
       "      <td>50</td>\n",
       "    </tr>\n",
       "    <tr>\n",
       "      <th>4</th>\n",
       "      <td>2.549000</td>\n",
       "      <td>1.018969</td>\n",
       "      <td>18.731045</td>\n",
       "      <td>5.351727</td>\n",
       "      <td>0.757926</td>\n",
       "      <td>25.988657</td>\n",
       "      <td>0.743817</td>\n",
       "      <td>19.665684</td>\n",
       "      <td>1.321523</td>\n",
       "      <td>15.709504</td>\n",
       "      <td>4.143663</td>\n",
       "      <td>98.5</td>\n",
       "      <td>25.504860</td>\n",
       "      <td>34.289173</td>\n",
       "      <td>27.543495</td>\n",
       "      <td>50</td>\n",
       "    </tr>\n",
       "  </tbody>\n",
       "</table>\n",
       "</div>"
      ],
      "text/plain": [
       "  Time (min)       VO2     VO2/kg               METS      VCO2         VE  \\\n",
       "         min     L/min    ml/kg/m Unnamed: 3_level_1     L/min      L/min   \n",
       "0   0.517167  0.247651   4.552413           1.300690  0.184220  19.603882   \n",
       "1   1.052167  0.687631  12.640276           3.611507  0.524605  19.488014   \n",
       "2   1.517833  0.900826  16.559309           4.731231  0.674840  23.455959   \n",
       "3   2.040500  0.907713  16.685894           4.767398  0.675092  23.951960   \n",
       "4   2.549000  1.018969  18.731045           5.351727  0.757926  25.988657   \n",
       "\n",
       "                 RER         RR        Vt       FEO2     FECO2    HR  \\\n",
       "  Unnamed: 6_level_1        BPM         L          %         %   bpm   \n",
       "0           0.743868  17.402514  1.126497  19.247952  1.362280  82.0   \n",
       "1           0.762917  22.429905  0.868841  16.212049  3.827807  84.0   \n",
       "2           0.749134  19.327129  1.213629  15.810433  4.088318  87.0   \n",
       "3           0.743728  21.045919  1.138081  15.884157  4.005978  99.0   \n",
       "4           0.743817  19.665684  1.321523  15.709504  4.143663  98.5   \n",
       "\n",
       "      VE/VO2      VE/CO2     PetCO2 Power  \n",
       "       BT/ST       BT/ST       mmHg Watts  \n",
       "0  79.159210  106.415611  10.536668    50  \n",
       "1  28.340801   37.147957  25.491480    50  \n",
       "2  26.038269   34.757805  27.316362    50  \n",
       "3  26.387159   35.479572  26.742533    50  \n",
       "4  25.504860   34.289173  27.543495    50  "
      ]
     },
     "execution_count": 10,
     "metadata": {},
     "output_type": "execute_result"
    }
   ],
   "source": [
    "df2.head()"
   ]
  },
  {
   "cell_type": "code",
   "execution_count": 11,
   "id": "2f5ceeb3",
   "metadata": {
    "execution": {
     "iopub.execute_input": "2023-03-07T18:14:01.314026Z",
     "iopub.status.busy": "2023-03-07T18:14:01.313636Z",
     "iopub.status.idle": "2023-03-07T18:14:01.362794Z",
     "shell.execute_reply": "2023-03-07T18:14:01.361429Z"
    },
    "papermill": {
     "duration": 0.059147,
     "end_time": "2023-03-07T18:14:01.365489",
     "exception": false,
     "start_time": "2023-03-07T18:14:01.306342",
     "status": "completed"
    },
    "tags": []
   },
   "outputs": [
    {
     "data": {
      "text/html": [
       "<div>\n",
       "<style scoped>\n",
       "    .dataframe tbody tr th:only-of-type {\n",
       "        vertical-align: middle;\n",
       "    }\n",
       "\n",
       "    .dataframe tbody tr th {\n",
       "        vertical-align: top;\n",
       "    }\n",
       "\n",
       "    .dataframe thead th {\n",
       "        text-align: right;\n",
       "    }\n",
       "</style>\n",
       "<table border=\"1\" class=\"dataframe\">\n",
       "  <thead>\n",
       "    <tr style=\"text-align: right;\">\n",
       "      <th></th>\n",
       "      <th>TIME</th>\n",
       "      <th>VO2</th>\n",
       "      <th>VO2/kg</th>\n",
       "      <th>METS</th>\n",
       "      <th>VCO2</th>\n",
       "      <th>VE</th>\n",
       "      <th>RER</th>\n",
       "      <th>RR</th>\n",
       "      <th>Vt</th>\n",
       "      <th>FEO2</th>\n",
       "      <th>FECO2</th>\n",
       "      <th>HR</th>\n",
       "      <th>VE/VO2</th>\n",
       "      <th>VE/CO2</th>\n",
       "      <th>PetCO2</th>\n",
       "      <th>Power</th>\n",
       "    </tr>\n",
       "  </thead>\n",
       "  <tbody>\n",
       "    <tr>\n",
       "      <th>0</th>\n",
       "      <td>0.517167</td>\n",
       "      <td>0.247651</td>\n",
       "      <td>4.552413</td>\n",
       "      <td>1.300690</td>\n",
       "      <td>0.184220</td>\n",
       "      <td>19.603882</td>\n",
       "      <td>0.743868</td>\n",
       "      <td>17.402514</td>\n",
       "      <td>1.126497</td>\n",
       "      <td>19.247952</td>\n",
       "      <td>1.362280</td>\n",
       "      <td>82.0</td>\n",
       "      <td>79.159210</td>\n",
       "      <td>106.415611</td>\n",
       "      <td>10.536668</td>\n",
       "      <td>50</td>\n",
       "    </tr>\n",
       "    <tr>\n",
       "      <th>1</th>\n",
       "      <td>1.052167</td>\n",
       "      <td>0.687631</td>\n",
       "      <td>12.640276</td>\n",
       "      <td>3.611507</td>\n",
       "      <td>0.524605</td>\n",
       "      <td>19.488014</td>\n",
       "      <td>0.762917</td>\n",
       "      <td>22.429905</td>\n",
       "      <td>0.868841</td>\n",
       "      <td>16.212049</td>\n",
       "      <td>3.827807</td>\n",
       "      <td>84.0</td>\n",
       "      <td>28.340801</td>\n",
       "      <td>37.147957</td>\n",
       "      <td>25.491480</td>\n",
       "      <td>50</td>\n",
       "    </tr>\n",
       "    <tr>\n",
       "      <th>2</th>\n",
       "      <td>1.517833</td>\n",
       "      <td>0.900826</td>\n",
       "      <td>16.559309</td>\n",
       "      <td>4.731231</td>\n",
       "      <td>0.674840</td>\n",
       "      <td>23.455959</td>\n",
       "      <td>0.749134</td>\n",
       "      <td>19.327129</td>\n",
       "      <td>1.213629</td>\n",
       "      <td>15.810433</td>\n",
       "      <td>4.088318</td>\n",
       "      <td>87.0</td>\n",
       "      <td>26.038269</td>\n",
       "      <td>34.757805</td>\n",
       "      <td>27.316362</td>\n",
       "      <td>50</td>\n",
       "    </tr>\n",
       "    <tr>\n",
       "      <th>3</th>\n",
       "      <td>2.040500</td>\n",
       "      <td>0.907713</td>\n",
       "      <td>16.685894</td>\n",
       "      <td>4.767398</td>\n",
       "      <td>0.675092</td>\n",
       "      <td>23.951960</td>\n",
       "      <td>0.743728</td>\n",
       "      <td>21.045919</td>\n",
       "      <td>1.138081</td>\n",
       "      <td>15.884157</td>\n",
       "      <td>4.005978</td>\n",
       "      <td>99.0</td>\n",
       "      <td>26.387159</td>\n",
       "      <td>35.479572</td>\n",
       "      <td>26.742533</td>\n",
       "      <td>50</td>\n",
       "    </tr>\n",
       "    <tr>\n",
       "      <th>4</th>\n",
       "      <td>2.549000</td>\n",
       "      <td>1.018969</td>\n",
       "      <td>18.731045</td>\n",
       "      <td>5.351727</td>\n",
       "      <td>0.757926</td>\n",
       "      <td>25.988657</td>\n",
       "      <td>0.743817</td>\n",
       "      <td>19.665684</td>\n",
       "      <td>1.321523</td>\n",
       "      <td>15.709504</td>\n",
       "      <td>4.143663</td>\n",
       "      <td>98.5</td>\n",
       "      <td>25.504860</td>\n",
       "      <td>34.289173</td>\n",
       "      <td>27.543495</td>\n",
       "      <td>50</td>\n",
       "    </tr>\n",
       "  </tbody>\n",
       "</table>\n",
       "</div>"
      ],
      "text/plain": [
       "       TIME       VO2     VO2/kg      METS      VCO2         VE       RER  \\\n",
       "0  0.517167  0.247651   4.552413  1.300690  0.184220  19.603882  0.743868   \n",
       "1  1.052167  0.687631  12.640276  3.611507  0.524605  19.488014  0.762917   \n",
       "2  1.517833  0.900826  16.559309  4.731231  0.674840  23.455959  0.749134   \n",
       "3  2.040500  0.907713  16.685894  4.767398  0.675092  23.951960  0.743728   \n",
       "4  2.549000  1.018969  18.731045  5.351727  0.757926  25.988657  0.743817   \n",
       "\n",
       "          RR        Vt       FEO2     FECO2    HR     VE/VO2      VE/CO2  \\\n",
       "0  17.402514  1.126497  19.247952  1.362280  82.0  79.159210  106.415611   \n",
       "1  22.429905  0.868841  16.212049  3.827807  84.0  28.340801   37.147957   \n",
       "2  19.327129  1.213629  15.810433  4.088318  87.0  26.038269   34.757805   \n",
       "3  21.045919  1.138081  15.884157  4.005978  99.0  26.387159   35.479572   \n",
       "4  19.665684  1.321523  15.709504  4.143663  98.5  25.504860   34.289173   \n",
       "\n",
       "      PetCO2  Power  \n",
       "0  10.536668     50  \n",
       "1  25.491480     50  \n",
       "2  27.316362     50  \n",
       "3  26.742533     50  \n",
       "4  27.543495     50  "
      ]
     },
     "execution_count": 11,
     "metadata": {},
     "output_type": "execute_result"
    }
   ],
   "source": [
    "df_excel  = pd.read_excel(\"/kaggle/input/demo-knes381/VO2_excel.xlsx\", header=[0], skiprows=[1,2,3])\n",
    "df_excel.head()"
   ]
  },
  {
   "cell_type": "code",
   "execution_count": 12,
   "id": "c4d65d89",
   "metadata": {
    "execution": {
     "iopub.execute_input": "2023-03-07T18:14:01.381413Z",
     "iopub.status.busy": "2023-03-07T18:14:01.380062Z",
     "iopub.status.idle": "2023-03-07T18:14:01.715551Z",
     "shell.execute_reply": "2023-03-07T18:14:01.714369Z"
    },
    "papermill": {
     "duration": 0.346226,
     "end_time": "2023-03-07T18:14:01.718316",
     "exception": false,
     "start_time": "2023-03-07T18:14:01.372090",
     "status": "completed"
    },
    "tags": []
   },
   "outputs": [
    {
     "data": {
      "text/plain": [
       "<AxesSubplot:xlabel='TIME'>"
      ]
     },
     "execution_count": 12,
     "metadata": {},
     "output_type": "execute_result"
    },
    {
     "data": {
      "image/png": "[encoded data removed]",
      "text/plain": [
       "<Figure size 640x480 with 1 Axes>"
      ]
     },
     "metadata": {},
     "output_type": "display_data"
    }
   ],
   "source": [
    "df_excel.plot('TIME', 'VO2')"
   ]
  },
  {
   "cell_type": "code",
   "execution_count": 13,
   "id": "cce08e81",
   "metadata": {
    "execution": {
     "iopub.execute_input": "2023-03-07T18:14:01.734235Z",
     "iopub.status.busy": "2023-03-07T18:14:01.733494Z",
     "iopub.status.idle": "2023-03-07T18:14:01.971017Z",
     "shell.execute_reply": "2023-03-07T18:14:01.970026Z"
    },
    "papermill": {
     "duration": 0.248422,
     "end_time": "2023-03-07T18:14:01.973661",
     "exception": false,
     "start_time": "2023-03-07T18:14:01.725239",
     "status": "completed"
    },
    "tags": []
   },
   "outputs": [
    {
     "data": {
      "text/plain": [
       "<AxesSubplot:xlabel='TIME'>"
      ]
     },
     "execution_count": 13,
     "metadata": {},
     "output_type": "execute_result"
    },
    {
     "data": {
      "image/png": "[encoded data removed]",
      "text/plain": [
       "<Figure size 640x480 with 1 Axes>"
      ]
     },
     "metadata": {},
     "output_type": "display_data"
    }
   ],
   "source": [
    "df_excel.plot(x = 0, y = 1)"
   ]
  },
  {
   "cell_type": "code",
   "execution_count": 14,
   "id": "b5a5a5d9",
   "metadata": {
    "execution": {
     "iopub.execute_input": "2023-03-07T18:14:01.990792Z",
     "iopub.status.busy": "2023-03-07T18:14:01.989616Z",
     "iopub.status.idle": "2023-03-07T18:14:02.337500Z",
     "shell.execute_reply": "2023-03-07T18:14:02.336056Z"
    },
    "papermill": {
     "duration": 0.359191,
     "end_time": "2023-03-07T18:14:02.340120",
     "exception": false,
     "start_time": "2023-03-07T18:14:01.980929",
     "status": "completed"
    },
    "tags": []
   },
   "outputs": [
    {
     "data": {
      "text/plain": [
       "<matplotlib.legend.Legend at 0x7fc48e4f4310>"
      ]
     },
     "execution_count": 14,
     "metadata": {},
     "output_type": "execute_result"
    },
    {
     "data": {
      "image/png": "[encoded data removed]",
      "text/plain": [
       "<Figure size 640x480 with 1 Axes>"
      ]
     },
     "metadata": {},
     "output_type": "display_data"
    }
   ],
   "source": [
    "x = df_excel['TIME']\n",
    "y = df_excel['VO2']\n",
    "y1 = df_excel['VCO2']\n",
    "plt.plot(x, y, c = 'r', label = '$\\dot VO_2$')\n",
    "plt.plot(x, y1, c = 'b', label = 'VE')\n",
    "plt.legend()"
   ]
  },
  {
   "cell_type": "code",
   "execution_count": 15,
   "id": "d653ad7d",
   "metadata": {
    "execution": {
     "iopub.execute_input": "2023-03-07T18:14:02.358854Z",
     "iopub.status.busy": "2023-03-07T18:14:02.358460Z",
     "iopub.status.idle": "2023-03-07T18:14:02.589028Z",
     "shell.execute_reply": "2023-03-07T18:14:02.587784Z"
    },
    "papermill": {
     "duration": 0.242582,
     "end_time": "2023-03-07T18:14:02.591727",
     "exception": false,
     "start_time": "2023-03-07T18:14:02.349145",
     "status": "completed"
    },
    "tags": []
   },
   "outputs": [
    {
     "data": {
      "text/plain": [
       "<AxesSubplot:title={'center':'Simple $\\\\dot VO_2$ time plot'}, xlabel='Time (min)', ylabel='$\\\\dot VO_2 (L/min)$'>"
      ]
     },
     "execution_count": 15,
     "metadata": {},
     "output_type": "execute_result"
    },
    {
     "data": {
      "image/png": "[encoded data removed]",
      "text/plain": [
       "<Figure size 640x480 with 1 Axes>"
      ]
     },
     "metadata": {},
     "output_type": "display_data"
    }
   ],
   "source": [
    "df_excel.plot(x = 0, y = 1, xlabel = 'Time (min)', ylabel = (r'$\\dot VO_2 (L/min)$'), label=('$\\dot VO_2$ L/min'), title = 'Simple $\\dot VO_2$ time plot', c = 'r') "
   ]
  },
  {
   "cell_type": "code",
   "execution_count": 16,
   "id": "a86a79c2",
   "metadata": {
    "execution": {
     "iopub.execute_input": "2023-03-07T18:14:02.610631Z",
     "iopub.status.busy": "2023-03-07T18:14:02.610188Z",
     "iopub.status.idle": "2023-03-07T18:14:03.202187Z",
     "shell.execute_reply": "2023-03-07T18:14:03.200907Z"
    },
    "papermill": {
     "duration": 0.604474,
     "end_time": "2023-03-07T18:14:03.204653",
     "exception": false,
     "start_time": "2023-03-07T18:14:02.600179",
     "status": "completed"
    },
    "tags": []
   },
   "outputs": [
    {
     "data": {
      "image/png": "[encoded data removed]",
      "text/plain": [
       "<Figure size 640x480 with 1 Axes>"
      ]
     },
     "metadata": {},
     "output_type": "display_data"
    }
   ],
   "source": [
    "x = df_excel['TIME']\n",
    "y = df_excel['VO2']\n",
    "\n",
    "ymax = max(y)\n",
    "xmax = x[y.argmax()]\n",
    "fig, ax = plt.subplots()\n",
    "ax.annotate('$\\dot VO_2max$ = ({}) L/min' .format(round(ymax, 2)), xy = (xmax, ymax), xytext = (xmax + .5, ymax + .5),\n",
    "            arrowprops = dict(facecolor = 'red', shrink = 0.05),\n",
    "           )\n",
    "\n",
    "ax.plot(x, y, label = ('$\\dot VO_2$ L/min'))\n",
    "ax.spines[['right', 'top']].set_visible(False)\n",
    "ax.set(title = ('$\\dot VO_2$'), label = ('$\\dot VO_2$ L/min'))\n",
    "ax.set(xlabel = ('time'))\n",
    "ax.set(ylabel = ('L/min'))\n",
    "ax.legend()\n",
    "\n",
    "fig.savefig(\"test.jpg\", dpi = 300, bbox_inches = \"tight\")"
   ]
  },
  {
   "cell_type": "code",
   "execution_count": 17,
   "id": "a3fe0427",
   "metadata": {
    "execution": {
     "iopub.execute_input": "2023-03-07T18:14:03.225320Z",
     "iopub.status.busy": "2023-03-07T18:14:03.224876Z",
     "iopub.status.idle": "2023-03-07T18:14:04.079031Z",
     "shell.execute_reply": "2023-03-07T18:14:04.077737Z"
    },
    "papermill": {
     "duration": 0.868008,
     "end_time": "2023-03-07T18:14:04.081801",
     "exception": false,
     "start_time": "2023-03-07T18:14:03.213793",
     "status": "completed"
    },
    "tags": []
   },
   "outputs": [
    {
     "data": {
      "image/png": "[encoded data removed]",
      "text/plain": [
       "<Figure size 640x480 with 3 Axes>"
      ]
     },
     "metadata": {},
     "output_type": "display_data"
    }
   ],
   "source": [
    "# plotting three graphs\n",
    "\n",
    "x = df_excel['TIME']\n",
    "y = df_excel['VO2']\n",
    "y1 = df_excel['VE']\n",
    "y2 = df_excel['VCO2']\n",
    "\n",
    "ymax = max(y)\n",
    "\n",
    "xmax = x[y.argmax()]\n",
    "\n",
    "fig, ax = plt.subplots(3, 1, sharex = True)\n",
    "fig.subplots_adjust(hspace = 0)\n",
    "\n",
    "# ax[0].annotate('$\\dot VO_2max$ = ({}) L/min'.format(round(ymax, 2)), xy = (xmax, ymax), )\n",
    "\n",
    "ax[0].plot(x, y, label = ('$\\dot VO_2$'), c = 'r')\n",
    "ax[0].spines[['right', 'top']].set_visible(False)\n",
    "ax[0].set(ylabel = ('L/min'))\n",
    "ax[0].legend()\n",
    "\n",
    "ax[1].plot(x, y1, label = ('VE'), c = 'b')\n",
    "ax[1].spines[['top', 'right']].set_visible(False)\n",
    "ax[1].set(ylabel = ('breaths/min'))\n",
    "ax[1].legend()\n",
    "\n",
    "ax[2].plot(x, y1, label = ('$\\dot VCO_2$'), c = 'g')\n",
    "ax[2].spines[['top', 'right']].set_visible(False)\n",
    "ax[2].set(ylabel = ('breaths/min'))\n",
    "ax[2].legend()\n",
    "\n",
    "fig.savefig(\"test-3.png\", dpi = 300, bbox_inches = \"tight\")"
   ]
  },
  {
   "cell_type": "code",
   "execution_count": null,
   "id": "753ae4f8",
   "metadata": {
    "papermill": {
     "duration": 0.009027,
     "end_time": "2023-03-07T18:14:04.100361",
     "exception": false,
     "start_time": "2023-03-07T18:14:04.091334",
     "status": "completed"
    },
    "tags": []
   },
   "outputs": [],
   "source": []
  }
 ],
 "metadata": {
  "kernelspec": {
   "display_name": "Python 3",
   "language": "python",
   "name": "python3"
  },
  "language_info": {
   "codemirror_mode": {
    "name": "ipython",
    "version": 3
   },
   "file_extension": ".py",
   "mimetype": "text/x-python",
   "name": "python",
   "nbconvert_exporter": "python",
   "pygments_lexer": "ipython3",
   "version": "3.7.12"
  },
  "papermill": {
   "default_parameters": {},
   "duration": 14.344761,
   "end_time": "2023-03-07T18:14:04.833505",
   "environment_variables": {},
   "exception": null,
   "input_path": "__notebook__.ipynb",
   "output_path": "__notebook__.ipynb",
   "parameters": {},
   "start_time": "2023-03-07T18:13:50.488744",
   "version": "2.4.0"
  }
 },
 "nbformat": 4,
 "nbformat_minor": 5
}
